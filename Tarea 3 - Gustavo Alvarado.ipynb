{
 "cells": [
  {
   "cell_type": "markdown",
   "metadata": {},
   "source": [
    "# Funciones en Python\n",
    "\n",
    "Cuando se está escribiendo un programa, es común requerir escribir *funciones* para poder abstaer alguna funcionalidad específica y codificarla de forma independiente. Al contar con una función, además de permitir codificar de una forma más ordenada, es posible reutilizarla en cualquier otra parte del código, parametrizarla y definirla para que retorne algún valor en específico.\n",
    "\n",
    "En Python, existen un sinnúmero de funciones predefinidas, sin embargo, es posible crear funciones personalizadas, utilizando la siguiente estructura:\n",
    "\n",
    "**def** *nombre_de_la_función* [(*parámetro1*, *parámetro2*, ...)]:  \n",
    "&nbsp;&nbsp;&nbsp;&nbsp;&nbsp;&nbsp;*bloque de código*  \n",
    "&nbsp;&nbsp;&nbsp;&nbsp;&nbsp;&nbsp;[**return** *valor1*, *valor2*, ...]\n",
    "\n",
    "Los parámetros pueden ser opcionales, al igual como los valores que retorna una función. \n",
    "\n",
    "A continuación se muestra un ejemplo de una función que recibe como parámetro un monto sin IVA, y retornará el monto con IVA incluído: "
   ]
  },
  {
   "cell_type": "code",
   "execution_count": 2,
   "metadata": {},
   "outputs": [],
   "source": [
    "def agregarIVA(monto):\n",
    "    iva = monto * 1.12\n",
    "    return iva"
   ]
  },
  {
   "cell_type": "code",
   "execution_count": 8,
   "metadata": {},
   "outputs": [
    {
     "name": "stdout",
     "output_type": "stream",
     "text": [
      "5\n",
      "Monto con IVA: 5.60\n"
     ]
    }
   ],
   "source": [
    "monto = float(input())\n",
    "montoConIVA = agregarIVA(monto)\n",
    "print(\"Monto con IVA:\",\"{:.2f}\".format(montoConIVA))"
   ]
  },
  {
   "cell_type": "markdown",
   "metadata": {},
   "source": [
    "En este ejemplo, la variable *monto* se recibe como **parámetro** de la función denominada *agregarIVA*, y esta **retorna** un valor numérico contenido en la variable *iva*."
   ]
  },
  {
   "cell_type": "markdown",
   "metadata": {},
   "source": [
    "## Parámetros posicionales\n",
    "\n",
    "En Python, existe una variante para recibir parámetros, en genera utilizados cuando los parámetros son indeterminados. Una de las formas de definir parámetros indeterminados es por medio de **parámetros posicionales**, con lo cual se define que la función recibirá como parámetro, cualquier cantidad de valores de cualquier tipo. Estos se definen en la función agregando un asterísco (\\*) al  de la siguiente forma:\n",
    "\n",
    "**def** *nombre_de_la_función* (\\*parametro):  \n",
    "&nbsp;&nbsp;&nbsp;&nbsp;&nbsp;&nbsp;*bloque de código*  \n",
    "&nbsp;&nbsp;&nbsp;&nbsp;&nbsp;&nbsp;[**return** *valor1*, *valor2*, ...]\n",
    "\n",
    "A continuación, se muestra un ejemplo de una función que recibe varios valores, imprime el valor y el tipo de dato de cada uno de los valores y retorna el total de valores enviados:"
   ]
  },
  {
   "cell_type": "code",
   "execution_count": 22,
   "metadata": {},
   "outputs": [],
   "source": [
    "def obtenerDatosRegistro(*registro):\n",
    "    for r in registro:\n",
    "        print(r, \"de tipo\", type(r))\n",
    "    return len(registro)"
   ]
  },
  {
   "cell_type": "code",
   "execution_count": 25,
   "metadata": {},
   "outputs": [
    {
     "name": "stdout",
     "output_type": "stream",
     "text": [
      "10 de tipo <class 'int'>\n",
      "Guatemala de tipo <class 'str'>\n",
      "35568.29 de tipo <class 'float'>\n",
      "['GT', 'GTM'] de tipo <class 'list'>\n",
      "Total de valores: 4\n"
     ]
    }
   ],
   "source": [
    "totalValores = obtenerDatosRegistro(10, \"Guatemala\", 35568.29, [\"GT\", \"GTM\"])\n",
    "print(\"Total de valores:\", totalValores)"
   ]
  },
  {
   "cell_type": "markdown",
   "metadata": {},
   "source": [
    "## Parámetros nombrados\n",
    "Otra forma de definir parámetros indeterminados es por medio de **parámetros nombrados**, que, a diferencia de los posicionales, el parámetro que se recibe es una lista de variables con un nombre y un valor, y se identifica agregando dos asteríscos (\\*\\*) de la siguiente forma:\n",
    "\n",
    "**def** *nombre_de_la_función* (\\*\\*parametro):  \n",
    "&nbsp;&nbsp;&nbsp;&nbsp;&nbsp;&nbsp;*bloque de código*  \n",
    "&nbsp;&nbsp;&nbsp;&nbsp;&nbsp;&nbsp;[**return** *valor1*, *valor2*, ...]\n",
    "\n",
    "A continuación, se muestra un ejemplo de una función que recibe un registro con un comando equivalente a una operación aritmética de suma o resta, y dos operandos que corresponden a los valores a operar:"
   ]
  },
  {
   "cell_type": "code",
   "execution_count": 29,
   "metadata": {},
   "outputs": [],
   "source": [
    "def operacionAritmetica(**comando):\n",
    "    if comando[\"operacion\"] == \"suma\":\n",
    "        return comando[\"operando1\"] + comando[\"operando2\"]\n",
    "    elif comando[\"operacion\"] == \"resta\":\n",
    "        return comando[\"operando1\"] - comando[\"operando2\"]"
   ]
  },
  {
   "cell_type": "code",
   "execution_count": 33,
   "metadata": {},
   "outputs": [
    {
     "name": "stdout",
     "output_type": "stream",
     "text": [
      "Suma: 46 Resta: 20\n"
     ]
    }
   ],
   "source": [
    "valor1 = 33\n",
    "valor2 = 13\n",
    "\n",
    "operacion1 = operacionAritmetica(operacion = \"suma\", operando1 = valor1, operando2 = valor2)\n",
    "operacion2 = operacionAritmetica(operando1 = valor1, operando2 = valor2, operacion = \"resta\")\n",
    "print (\"Suma:\", operacion1, \"Resta:\", operacion2)"
   ]
  },
  {
   "cell_type": "markdown",
   "metadata": {},
   "source": [
    "## Retorno de múltiples valores\n",
    "\n",
    "En Python, a diferencia de otros lenguajes de programación populares, es posible definir que una función retorne múltiples valores. Como se ha visto en las definiciones anteriores, para retornar múltiples valores en la función, únicamente es necesario separar los valores con comas. De la misma forma, para asignar el valor de una variable a múltiples respuestas de una función, se necesita separar las variables por comas.\n",
    "\n",
    "**def** *nombre_de_la_función* [(*parámetro1*, *parámetro2*, ...]:  \n",
    "&nbsp;&nbsp;&nbsp;&nbsp;&nbsp;&nbsp;*bloque de código*  \n",
    "&nbsp;&nbsp;&nbsp;&nbsp;&nbsp;&nbsp;[**return** *valor1*, *valor2*, ...]\n",
    "\n",
    "variable1, variable2, ... = *nombre_de_la_función* (parámetro1, parámetro2, ...)\n",
    "\n",
    "A continuación, se muestra un ejemplo en el que una función recibe como parámetro un texto, y retorna su valor en mayúsculas y en minúsculas:"
   ]
  },
  {
   "cell_type": "code",
   "execution_count": 36,
   "metadata": {},
   "outputs": [],
   "source": [
    "def mayusculasMinusculas(texto):\n",
    "    return texto.upper(), texto.lower()"
   ]
  },
  {
   "cell_type": "code",
   "execution_count": 39,
   "metadata": {},
   "outputs": [
    {
     "name": "stdout",
     "output_type": "stream",
     "text": [
      "Coronavirus\n",
      "CORONAVIRUS coronavirus\n"
     ]
    }
   ],
   "source": [
    "texto = input()\n",
    "enMayusculas, enMinusculas = mayusculasMinusculas(texto)\n",
    "print (enMayusculas, enMinusculas)"
   ]
  },
  {
   "cell_type": "markdown",
   "metadata": {},
   "source": [
    "## Funciones como objetos y prámetros de otras funciones\n",
    "En Python también es posible pasar una función como un parámetro, ya que una función es considerada como un objeto. En general, las funciones pueden ser usadas como objetos en otros ámbitos, por ejemplo, pueden tener un tipo, pueden ser usadas en alguna expresión, o incluso formar parte de estructuras como listas o diccionarios. \n",
    "\n",
    "A continuación, se muestra un ejemplo "
   ]
  },
  {
   "cell_type": "code",
   "execution_count": 43,
   "metadata": {},
   "outputs": [],
   "source": [
    "def sumar(x, y):\n",
    "    return x + y\n",
    "\n",
    "def restar(x, y):\n",
    "    return x - y\n",
    "\n",
    "def multiplicar(x, y):\n",
    "     return x * y\n",
    "\n",
    "def dividir(x, y):\n",
    "    return x // y\n",
    "\n",
    "def operacion (n, m, o):\n",
    "    return o(n, m)"
   ]
  },
  {
   "cell_type": "code",
   "execution_count": 47,
   "metadata": {
    "scrolled": true
   },
   "outputs": [
    {
     "name": "stdout",
     "output_type": "stream",
     "text": [
      "38\n",
      "16\n",
      "Suma: 54\n",
      "Resta: 22\n",
      "Multiplicación: 608\n",
      "División: 2\n"
     ]
    }
   ],
   "source": [
    "a = int(input())\n",
    "b = int(input())\n",
    "\n",
    "print(\"Suma:\", operacion(a,b,sumar))\n",
    "print(\"Resta:\", operacion(a,b,restar))\n",
    "print(\"Multiplicación:\", operacion(a,b,multiplicar))\n",
    "print(\"División:\", operacion(a,b,dividir))"
   ]
  },
  {
   "cell_type": "markdown",
   "metadata": {},
   "source": [
    "## Funciones anónimas o lambda\n",
    "Existe un tipo de función especial en Phyton denominada **anónima**. Se les denomina \"anónimas\" ya que no tienen nombre y no son definidas con la palabra reservada **def**, sino con la palabra reservada **lambda**. Otra de sus características es que puede recibir múltiples parámetros, pero únicamente contiene una expresión dentro de su definición. Una función anónima se define de la siguiente forma:\n",
    "\n",
    "*nombre_de_variable* = **lambda** [parámetro1, parámetro2, ...] : expresión\n",
    "\n",
    "A continuación, se muestra un ejemplo de una función anónima equivalente a la función que calcula el un monto con IVA incluido:\n",
    "\n"
   ]
  },
  {
   "cell_type": "code",
   "execution_count": 51,
   "metadata": {},
   "outputs": [
    {
     "name": "stdout",
     "output_type": "stream",
     "text": [
      "25\n",
      "Monto con IVA: 28.00\n"
     ]
    }
   ],
   "source": [
    "agregarIVA = lambda valor: valor * 1.12\n",
    "\n",
    "monto = float(input())\n",
    "montoConIVA = agregarIVA(monto)\n",
    "print(\"Monto con IVA:\",\"{:.2f}\".format(montoConIVA))\n"
   ]
  }
 ],
 "metadata": {
  "kernelspec": {
   "display_name": "Python 3",
   "language": "python",
   "name": "python3"
  },
  "language_info": {
   "codemirror_mode": {
    "name": "ipython",
    "version": 3
   },
   "file_extension": ".py",
   "mimetype": "text/x-python",
   "name": "python",
   "nbconvert_exporter": "python",
   "pygments_lexer": "ipython3",
   "version": "3.7.4"
  }
 },
 "nbformat": 4,
 "nbformat_minor": 2
}
