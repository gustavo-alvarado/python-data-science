{
 "cells": [
  {
   "cell_type": "markdown",
   "metadata": {},
   "source": [
    "# GIT\n",
    "\n",
    "Dentro del mundo de la tecnología actual, es cada vez más común la necesidad de algún software para el control de versiones de archivos en cualquier ámbito. Aunque sea bastante común en el área de desarrollo de software, el control de versiones puede aplicar a cualquier tipo de propósitos si lo que se busca es mantener un sistema ordenado y tener control sobre los cambios que se requieren en los archivos en un ambiente colaborativo. Existen distintas soluciones que proveen software para el control de versiones, sin embargo, GIT es uno de los más utilizados en la actualidad. Las soluciones de alojamiento para sistemas de control de versiones más utilizadas actualmente (*GitHub*, *GitLab* *Bitbucket*, *Azure DevOps*) utilizan GIT. \n",
    "\n",
    "Aparte de permitir el control de versiones, GIT está fuertemente orientado a la colaboración, ya que permite crear distintas \"ramas\" de la línea principal de versiones, las cuales pueden ser modificadas concurrentemente y posteriormente \"unirse\" para combinar los cambios que se realizan en cada una de de ellas. En el nivel más básico de su implementación GIT cuenta con una serie de comandos para efectuar las diferentes tareas requeridas para mantener el control de las versiones. \n",
    "\n",
    "## Comandos principales\n",
    "\n",
    "Existe una serie de comandos principales, los cuales servirán para configurar e inicializar un repositorio y las operaciones más comunes para crear \"instantáneas\" (*snapshot*) de la versión actual y monitorear los cambios que se han realizado. Una instantánea es una copia actual del contenido del repositorio, el cual constituirá la nueva versión. Además, cada instantánea del repositorio cuenta con metadatos, los cuales incluyen el usuario que efectuó el cambio, la fecha, la descripción del cambio y el *hash* asociado que genera GIT como identificador único. Previo a la creación de esta copia, GIT da la flexibilidad de añadir los archivos que se requieran en la instantánea a ún area temporal (*staging area*). Algunos de los comandos principales de GIT, se detallan a continuación:  \n",
    "\n",
    "- `git init`: Inicializa una carpeta determinada como un repositorio nuevo.\n",
    "- `git add`: Añade un archivo al área temporal.\n",
    "- `git commit`: Crea una instantánea. Se requiere un texto descriptivo que explique en términos comunes lo que incluye el cambio que se está efectuando. Este comando retornará como resultado el *hash* asociado a la instantánea. \n",
    "- `git commit -a`: Crea una instancia con todos los cambios existentes.\n",
    "- `git log`: Devuelve el historial de todas las versiones creadas. Este comando puede ser utilizado con otros parámetros para presentar el historial de distintas formas. \n",
    "- `git checkout [hash]`: Para visualizar una versión específica del repositorio.  \n",
    "- `git diff`: Para visualizar qué fue lo que cambió desde la última versión. \n",
    "- `git show`: Mostrar el detalle de una instantánea. \n",
    "- `git blame`: Para visualizar quién efectuó algún cambio en específico.\n",
    "\n",
    "## *Branching*\n",
    "\n",
    "GIT ofrece la funcionalidad de trabajar distintas versiones de un mismo archivo o grupo de archivos a la vez. Para este objetivo, es posible crear una nueva \"rama\" (*branch*) de la instantánea actual, la cual podrá ser después unida (*merge*) con la versión actual. Los comandos para este tipo de operaciones son los siguientes:\n",
    "\n",
    "- `git branch [name]`: Para crear una nueva rama. \n",
    "- `git branch`: Muestra el listado de ramas disponibles. \n",
    "- `git checkout [name]`: Para visualizar una rama específica. \n",
    "- `git merge`: Unir una rama específica con otra. \n",
    "- `git mergetool`: Para resolver conflictos que se presenten al unir dos ramas. \n",
    "\n",
    "## Remoto\n",
    "\n",
    "Para permitir un ambiente colaborativo, GIT ofrece varias opciones para que puedan existir distintas copias del repositorio en cualquier ubicación remota. Cuando se manejan distintas copias, deben existir operaciones que permitan unir las diferentes copias y los posibles cambios que puedan existir en cada una de ellas. Los comandos disponibles para manejar las distintas copias remotas sonlos siguientes:\n",
    "\n",
    "- `git remote`: Obtiene el listado de copias remotas que existen. \n",
    "- `git remote add [name] [url]`: Agrega una nueva copia remota. \n",
    "- `git clone`: Para hacer una copia local de algún repositorio remoto. \n",
    "- `git push`: Envía todos los cambios hacia el repositorio remoto. \n",
    "- `git fetch`: Obtiene los cambios existentes en el repositorio remoto. \n",
    "- `git pull`: Es una combinación entre `fetch` y `merge` para obtener los cambios y unirlos con el repositorio local. \n",
    "\n",
    "Por otro lado, GIT también cuenta con dos archivos específicos que son de mucha utilidad y que pueden ser manejados a través de comandos. Uno de ellos es el `.gitconfig` el cual incluye las configuraciones generales del ambiente de GIT. El otro archivo es el `.gitignore` el cual incluye el detalle de los archivos que se desean excluír del repositorio. \n",
    "\n",
    "Al utilizar GIT como software para el control de versiones se obtiene una gran cantidad de beneficios y flexibilidad para trabajar en un ambiente colaborativo y remoto. Esto se hace crucial especialmente en equipos de desarrollo de software, ya que como parte de las buenas prácticas existentes, se hace completamente necesario tener un completo control sobre los cambios que se van dando en cualquier proyecto. Además, GIT permitirá que estos equipos puedan trabajar concurrentemente en distintos cambios y corrección de errores, lo cual ofrece un nivel alto de eficiencia para cualquier organización.  \n",
    "\n"
   ]
  },
  {
   "cell_type": "code",
   "execution_count": null,
   "metadata": {},
   "outputs": [],
   "source": []
  },
  {
   "cell_type": "code",
   "execution_count": null,
   "metadata": {},
   "outputs": [],
   "source": []
  },
  {
   "cell_type": "code",
   "execution_count": null,
   "metadata": {},
   "outputs": [],
   "source": []
  }
 ],
 "metadata": {
  "kernelspec": {
   "display_name": "Python 3",
   "language": "python",
   "name": "python3"
  },
  "language_info": {
   "codemirror_mode": {
    "name": "ipython",
    "version": 3
   },
   "file_extension": ".py",
   "mimetype": "text/x-python",
   "name": "python",
   "nbconvert_exporter": "python",
   "pygments_lexer": "ipython3",
   "version": "3.7.4"
  }
 },
 "nbformat": 4,
 "nbformat_minor": 2
}
